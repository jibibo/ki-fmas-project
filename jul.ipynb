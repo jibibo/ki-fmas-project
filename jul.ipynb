{
 "cells": [
  {
   "cell_type": "markdown",
   "metadata": {},
   "source": [
    "# Simulating voting rules (Python 3.10.10)"
   ]
  },
  {
   "cell_type": "markdown",
   "metadata": {},
   "source": [
    "## Introduction\n",
    "\n",
    "Voting rules can be confusing. To illustrate the possible voting rules as discussed in the lectures, we simulate the voting rules and the effects they can have. In this demo, \"agent\" and \"voter\" is used interchangably.\n",
    "\n",
    "Based on information provided in lecture slides by Federico Fioravanti."
   ]
  },
  {
   "cell_type": "code",
   "execution_count": 358,
   "metadata": {},
   "outputs": [],
   "source": [
    "import random\n",
    "import numpy as np\n",
    "import pandas as pd\n",
    "import string\n",
    "from collections import Counter\n",
    "import copy"
   ]
  },
  {
   "cell_type": "markdown",
   "metadata": {},
   "source": [
    "## Model definition"
   ]
  },
  {
   "cell_type": "markdown",
   "metadata": {},
   "source": [
    "### Defining functions"
   ]
  },
  {
   "cell_type": "markdown",
   "metadata": {},
   "source": [
    "We first define the functions `create_voters` and `create_alternatives` to create specific sets $N$ and $A$, respectively."
   ]
  },
  {
   "cell_type": "code",
   "execution_count": 360,
   "metadata": {},
   "outputs": [
    {
     "name": "stdout",
     "output_type": "stream",
     "text": [
      "create_voters(5)=[0, 1, 2, 3, 4]\n",
      "create_alternatives(5)=['a', 'b', 'c', 'd', 'e']\n"
     ]
    }
   ],
   "source": [
    "def create_voters(n_voters: int = 0) -> list[int]:\n",
    "    \"\"\"\n",
    "    Create a list of voters of size `n_voters`.\n",
    "    If `n_voters` is equal to 0, a random number of voters in the range \n",
    "    [3, 10] will be created.\n",
    "    \"\"\"\n",
    "\n",
    "    assert isinstance(n_voters, int), 'Number of voters must be an integer'\n",
    "    assert n_voters >= 0, 'Number of voters must be zero or positive'\n",
    "\n",
    "    if n_voters == 0:\n",
    "        n_voters = random.randint(3, 10)\n",
    "\n",
    "    return [i for i in range(n_voters)]\n",
    "\n",
    "\n",
    "def create_alternatives(n_alternatives: int = 0) -> list[str]:\n",
    "    \"\"\"\n",
    "    Create a list of alternatives of size `n_alternatives`.\n",
    "    If `n_alternatives` is equal to 0, a random number of alternatives in the range \n",
    "    [3, 10] will be created.\n",
    "    \"\"\"\n",
    "\n",
    "    assert isinstance(n_alternatives, int), 'Number of alternatives must be an integer'\n",
    "    assert n_alternatives >= 0, 'Number of alternatives must be zero or positive'\n",
    "    assert n_alternatives <= 26, 'Number of alternatives must be less than or equal to 26'\n",
    "\n",
    "    if n_alternatives == 0:\n",
    "        n_alternatives = random.randint(3, 10)\n",
    "\n",
    "    return list(string.ascii_lowercase[:n_alternatives])\n",
    "\n",
    "\n",
    "print(f'{create_voters(5)=}')\n",
    "print(f'{create_alternatives(5)=}')"
   ]
  },
  {
   "cell_type": "markdown",
   "metadata": {},
   "source": [
    "We define a function `create_preference_profile` for creating preference profiles. For each agent $i \\in N$ it creates a preference $\\succ_i$ containing alternatives from the set $A$:"
   ]
  },
  {
   "cell_type": "code",
   "execution_count": 361,
   "metadata": {},
   "outputs": [],
   "source": [
    "def create_profile(voters: list[int], alternatives: list[str]) -> dict:\n",
    "    \"\"\"\n",
    "    Create a preference profile for a given number of voters and alternatives.\n",
    "    Randomized on each call.\n",
    "    \"\"\"\n",
    "    \n",
    "    profile = dict()\n",
    "\n",
    "    for voter in voters:\n",
    "        profile[voter] = ''.join(random.sample(alternatives, k=len(alternatives)))\n",
    "        \n",
    "    return profile"
   ]
  },
  {
   "cell_type": "markdown",
   "metadata": {},
   "source": [
    "Functions for getting the top choice of a voter $i$ and the bottom choice: $top(\\succ_i) = a_{i_1}$ and $bot(\\succ_i) = a_{i_{|A|}}$"
   ]
  },
  {
   "cell_type": "code",
   "execution_count": 362,
   "metadata": {},
   "outputs": [],
   "source": [
    "def top_choice(profile: dict, voter: int) -> str:\n",
    "    \"\"\"\n",
    "    Returns the top choice of a voter.\n",
    "    \"\"\"\n",
    "    \n",
    "    return profile[voter][0]\n",
    "\n",
    "def bottom_choice(profile: dict, voter: int) -> str:\n",
    "    \"\"\"\n",
    "    Returns the bottom choice of a voter.\n",
    "    \"\"\"\n",
    "    \n",
    "    return profile[voter][-1]"
   ]
  },
  {
   "cell_type": "markdown",
   "metadata": {},
   "source": [
    "## Description of a sample preference profile"
   ]
  },
  {
   "cell_type": "code",
   "execution_count": 363,
   "metadata": {},
   "outputs": [
    {
     "name": "stdout",
     "output_type": "stream",
     "text": [
      "Sample profile:\n",
      "profile={0: 'cba', 1: 'bca', 2: 'cab', 3: 'abc'}\n",
      "\n",
      "Preferences by voter:\n",
      "Voter 0: cba\n",
      "Voter 1: bca\n",
      "Voter 2: cab\n",
      "Voter 3: abc\n",
      "\n",
      "Preferences by frequency:\n",
      "cba: 1\n",
      "bca: 1\n",
      "cab: 1\n",
      "abc: 1\n"
     ]
    }
   ],
   "source": [
    "# sample preference profile for 4 voters and 3 alternatives\n",
    "n_voters = 4\n",
    "n_alternatives = 3\n",
    "voters = create_voters(n_voters)\n",
    "alternatives = create_alternatives(n_alternatives)\n",
    "profile = create_profile(voters, alternatives)\n",
    "print('Sample profile:')\n",
    "print(f'{profile=}')\n",
    "\n",
    "\n",
    "print('\\nPreferences by voter:')\n",
    "\n",
    "for voter in voters:\n",
    "    print(f'Voter {voter}: {profile[voter]}')\n",
    "\n",
    "\n",
    "# count the number of each preference\n",
    "preference_count = Counter(profile.values())\n",
    "\n",
    "print('\\nPreferences by frequency:')\n",
    "\n",
    "for preference, count in preference_count.most_common():\n",
    "    print(f'{preference}: {count}')"
   ]
  },
  {
   "cell_type": "markdown",
   "metadata": {},
   "source": [
    "## The dictatorship rule $F_{DCT}$\n",
    "\n",
    "For any profile $R$: $F_{DCT}(R) = top(\\succ_i)$, with voter $i \\in N$ being the \"dictator\"."
   ]
  },
  {
   "cell_type": "code",
   "execution_count": 364,
   "metadata": {},
   "outputs": [],
   "source": [
    "def dictatorship_rule(profile: dict, dictator: int) -> str:\n",
    "    \"\"\"\n",
    "    This rule returns the top choice of the dictator specified.\n",
    "    \"\"\"\n",
    "    \n",
    "    return top_choice(profile, dictator)"
   ]
  },
  {
   "cell_type": "code",
   "execution_count": 365,
   "metadata": {},
   "outputs": [
    {
     "name": "stdout",
     "output_type": "stream",
     "text": [
      "n_voters=4\n",
      "n_alternatives=3\n",
      "profile={0: 'cba', 1: 'bca', 2: 'cab', 3: 'abc'}\n",
      "--------------------------------------------------------------------------------\n",
      "\n",
      "Dictatorship rule:\n",
      "Dictator: 2\n",
      "Winner: c\n"
     ]
    }
   ],
   "source": [
    "print(f'{n_voters=}')\n",
    "print(f'{n_alternatives=}')\n",
    "print(f'{profile=}')\n",
    "print('-' * 80)\n",
    "\n",
    "dictator = random.choice(voters)\n",
    "\n",
    "print('\\nDictatorship rule:')\n",
    "print(f'Dictator: {dictator}')\n",
    "\n",
    "winner = dictatorship_rule(profile, dictator)\n",
    "print(f'Winner: {winner}')"
   ]
  },
  {
   "cell_type": "markdown",
   "metadata": {},
   "source": [
    "## The majority rule $F_{MAJ}$"
   ]
  },
  {
   "cell_type": "markdown",
   "metadata": {},
   "source": [
    "The majority rule states that for any profile $R$: $F_{MAJ}(R) = x$, such that $top(\\succ_i) = x$ for a strict majority of voters in $N$. A strict majority is the the half of the voters plus one. \n",
    "\n",
    "The majority rule does not always have an outcome. In that case, the function `majority_rule` returns `None`. This can happen when `n_voters` is even and/or `n_alternatives` is greater than 2."
   ]
  },
  {
   "cell_type": "code",
   "execution_count": 366,
   "metadata": {},
   "outputs": [],
   "source": [
    "def majority_rule(profile: dict) -> str | None:\n",
    "    \"\"\"\n",
    "    This rule returns the majority top choice.\n",
    "    If there is no majority, it returns None.\n",
    "    \"\"\"\n",
    "    \n",
    "    majority = len(profile) // 2 + 1\n",
    "\n",
    "    top_choices = [top_choice(profile, voter) for voter in profile]\n",
    "    top_choice_count = Counter(top_choices)\n",
    "\n",
    "    for top, count in top_choice_count.items():\n",
    "        if count >= majority:\n",
    "            return top\n",
    "        \n",
    "    return None"
   ]
  },
  {
   "cell_type": "code",
   "execution_count": 367,
   "metadata": {},
   "outputs": [
    {
     "name": "stdout",
     "output_type": "stream",
     "text": [
      "n_voters=4\n",
      "n_alternatives=3\n",
      "profile={0: 'cba', 1: 'bca', 2: 'cab', 3: 'abc'}\n",
      "--------------------------------------------------------------------------------\n",
      "\n",
      "Majority rule:\n",
      "Winner: None\n"
     ]
    }
   ],
   "source": [
    "print(f'{n_voters=}')\n",
    "print(f'{n_alternatives=}')\n",
    "print(f'{profile=}')\n",
    "print('-' * 80)\n",
    "\n",
    "print('\\nMajority rule:')\n",
    "\n",
    "winner = majority_rule(profile)\n",
    "print(f'Winner: {winner}')"
   ]
  },
  {
   "cell_type": "markdown",
   "metadata": {},
   "source": [
    "## The plurality rule $F_{PLU}$\n",
    "\n",
    "The plurality rule states that for any profile $R$: $F_{PLU}(R) = \\text{argmax}_{x \\in A}p_R(x)$, where $p_R(x) = | \\{ i \\in N | top(\\succ_i) = x \\} |$. That is, the plurality rule extracts the alternatives that are the most at the top of the voters' preferences.\n",
    "\n",
    "This implementation of `plurality_rule` returns a random winner in case of a tie. This results in the fact that this rule always has a winner."
   ]
  },
  {
   "cell_type": "code",
   "execution_count": 368,
   "metadata": {},
   "outputs": [],
   "source": [
    "def plurality_rule(profile: dict) -> str:\n",
    "    \"\"\"\n",
    "    This rule returns the plurality top choice.\n",
    "    If there are ties, return a random winner.\n",
    "    \"\"\"\n",
    "    \n",
    "    # construct a list of all the top choices, and count them\n",
    "    top_choices = [top_choice(profile, voter) for voter in profile]\n",
    "    choice_votes = Counter(top_choices)\n",
    "\n",
    "    # find the maximum number of votes\n",
    "    max_votes = max(choice_votes.values())\n",
    "\n",
    "    # get winners\n",
    "    winners = [c for c, v in choice_votes.items() if v == max_votes]\n",
    "    \n",
    "    return random.choice(winners)"
   ]
  },
  {
   "cell_type": "code",
   "execution_count": 369,
   "metadata": {},
   "outputs": [
    {
     "name": "stdout",
     "output_type": "stream",
     "text": [
      "n_voters=4\n",
      "n_alternatives=3\n",
      "profile={0: 'cba', 1: 'bca', 2: 'cab', 3: 'abc'}\n",
      "--------------------------------------------------------------------------------\n",
      "\n",
      "Plurality rule:\n",
      "Winner: c\n"
     ]
    }
   ],
   "source": [
    "print(f'{n_voters=}')\n",
    "print(f'{n_alternatives=}')\n",
    "print(f'{profile=}')\n",
    "print('-' * 80)\n",
    "\n",
    "print('\\nPlurality rule:')\n",
    "\n",
    "winner = plurality_rule(profile)\n",
    "print(f'Winner: {winner}')"
   ]
  },
  {
   "cell_type": "markdown",
   "metadata": {},
   "source": [
    "### Duverger's law\n",
    "\n",
    "Duverger's law states that:\n",
    "\n",
    "> A single-ballot plurality-rule election structured within single-member districts tends to favor a two-party system\n",
    "\n",
    "The two-party system in the United States is a result of Duverger's law. The president is chosen with this voting rule. To illustrate how unfavorable this voting system is, we will simulate a country with 100 citizens and varying between 5, 4, 3 and 2 alternatives. For simplicity, we discard the districts and imagine the entire country consists of a single district."
   ]
  },
  {
   "cell_type": "markdown",
   "metadata": {},
   "source": [
    "#### Plurality with 5 alternatives"
   ]
  },
  {
   "cell_type": "code",
   "execution_count": 402,
   "metadata": {},
   "outputs": [
    {
     "name": "stdout",
     "output_type": "stream",
     "text": [
      "\n",
      "Preferences by frequency:\n",
      "cadeb:  6   bcdea:  3   cbdae:  3   debac:  3   eadbc:  3   edcab:  3   \n",
      "acdbe:  2   daceb:  2   dacbe:  2   adbec:  2   dceab:  2   bdcae:  2   \n",
      "eadcb:  2   cedab:  2   daebc:  2   ebadc:  2   cdabe:  2   bdcea:  2   \n",
      "bcead:  2   acedb:  2   bdaec:  2   edbac:  2   bcaed:  2   bdeca:  2   \n",
      "cdeba:  2   baced:  2   bdace:  2   edcba:  2   eacbd:  2   decab:  2   \n",
      "dcbae:  1   cdaeb:  1   ebcad:  1   cdbea:  1   caedb:  1   cabed:  1   \n",
      "eabdc:  1   badec:  1   bcdae:  1   edbca:  1   dbace:  1   becda:  1   \n",
      "dcaeb:  1   eacdb:  1   abdce:  1   cedba:  1   dbcae:  1   aedbc:  1   \n",
      "aecdb:  1   ecbda:  1   acdeb:  1   bceda:  1   debca:  1   deacb:  1   \n",
      "cbade:  1   edabc:  1   edacb:  1   adcbe:  1   aebcd:  1   bedac:  1   \n",
      "daecb:  1   \n",
      "\n",
      "Plurality rule winner: b\n",
      "Top vote: 24 times\n",
      "Bottom vote: 30 times\n",
      "In bottom 2 votes: 51 times\n"
     ]
    }
   ],
   "source": [
    "random.seed(27)\n",
    "\n",
    "n_voters = 100\n",
    "n_alternatives = 5\n",
    "voters = create_voters(n_voters)\n",
    "alternatives = create_alternatives(n_alternatives)\n",
    "profile = create_profile(voters, alternatives)\n",
    "\n",
    "print('\\nPreferences by frequency:')\n",
    "\n",
    "preference_count = Counter(profile.values())\n",
    "\n",
    "for i, (preference, count) in enumerate(preference_count.most_common()):\n",
    "    # print in table form\n",
    "    print(f'{preference}: {count:>2}', end='   ')\n",
    "    if i % 6 == 5 and i != len(preference_count) - 1:\n",
    "        print()\n",
    "\n",
    "print()\n",
    "\n",
    "winner = plurality_rule(profile)\n",
    "winner_on_top = sum([1 for voter in profile if top_choice(profile, voter) == winner])\n",
    "winner_on_bottom = sum([1 for voter in profile if bottom_choice(profile, voter) == winner])\n",
    "winner_on_bottom_2 = sum([1 for voter in profile if winner in profile[voter][-2:]])\n",
    "\n",
    "print(f'\\nPlurality rule winner: {winner}')\n",
    "print(f'Top vote: {winner_on_top} times')\n",
    "print(f'Bottom vote: {winner_on_bottom} times')\n",
    "print(f'In bottom 2 votes: {winner_on_bottom_2} times')\n"
   ]
  },
  {
   "cell_type": "markdown",
   "metadata": {},
   "source": [
    "As we can see, the plurality rule winner for this profile is alternative $b$. However, even though $b$ reached the top of the voter's preference 24 times, they were at the bottom of the preference of 30 voters. This shows that the plurality rule can provide terrible winners that do not align with many people's preferences. Even worse, however, is that in 51 out of 100 voters, the winner $b$ was either one of the bottom two alternatives in their preference. The votes for alternatives that were less despised by the population were split, and as a result, the winner with the most votes was $b$."
   ]
  },
  {
   "cell_type": "markdown",
   "metadata": {},
   "source": [
    "#### Plurality with 4 alternatives"
   ]
  },
  {
   "cell_type": "code",
   "execution_count": 562,
   "metadata": {},
   "outputs": [
    {
     "name": "stdout",
     "output_type": "stream",
     "text": [
      "\n",
      "Preferences by frequency:\n",
      "dabc:  8   cdba:  7   cadb:  7   abcd:  6   badc:  6   dacb:  5   \n",
      "cabd:  5   dbca:  5   cdab:  5   dcba:  5   adbc:  4   bcda:  4   \n",
      "bcad:  4   bacd:  4   abdc:  4   bdca:  4   cbad:  4   acbd:  3   \n",
      "dcab:  3   dbac:  3   cbda:  2   adcb:  1   bdac:  1   \n",
      "\n",
      "Plurality rule winner: c\n",
      "Top vote: 30 times\n",
      "Bottom vote: 26 times\n",
      "In bottom 2 votes: 51 times\n"
     ]
    }
   ],
   "source": [
    "random.seed(706)\n",
    "\n",
    "n_voters = 100\n",
    "n_alternatives = 4\n",
    "voters = create_voters(n_voters)\n",
    "alternatives = create_alternatives(n_alternatives)\n",
    "profile = create_profile(voters, alternatives)\n",
    "\n",
    "print('\\nPreferences by frequency:')\n",
    "\n",
    "preference_count = Counter(profile.values())\n",
    "\n",
    "for i, (preference, count) in enumerate(preference_count.most_common()):\n",
    "    # print in table form\n",
    "    print(f'{preference}: {count:>2}', end='   ')\n",
    "    if i % 6 == 5 and i != len(preference_count) - 1:\n",
    "        print()\n",
    "\n",
    "print()\n",
    "\n",
    "winner = plurality_rule(profile)\n",
    "winner_on_top = sum([1 for voter in profile if top_choice(profile, voter) == winner])\n",
    "winner_on_bottom = sum([1 for voter in profile if bottom_choice(profile, voter) == winner])\n",
    "winner_on_bottom_2 = sum([1 for voter in profile if winner in profile[voter][-2:]])\n",
    "\n",
    "print(f'\\nPlurality rule winner: {winner}')\n",
    "print(f'Top vote: {winner_on_top} times')\n",
    "print(f'Bottom vote: {winner_on_bottom} times')\n",
    "print(f'In bottom 2 votes: {winner_on_bottom_2} times')\n"
   ]
  },
  {
   "cell_type": "markdown",
   "metadata": {},
   "source": [
    "In the above voting simulation, we can again see that the majority of voters have written down the winner ($c$) to be in the bottom half of their preference. This time however, the amount of times that alternative $c$ is at the top of preferences is more than the amount of times $c$ is at the bottom of preferences."
   ]
  },
  {
   "cell_type": "markdown",
   "metadata": {},
   "source": [
    "#### Plurality with 3 alternatives"
   ]
  },
  {
   "cell_type": "code",
   "execution_count": 620,
   "metadata": {},
   "outputs": [
    {
     "name": "stdout",
     "output_type": "stream",
     "text": [
      "\n",
      "Preferences by frequency:\n",
      "cba: 23   bac: 19   acb: 16   bca: 16   cab: 14   abc: 12   \n",
      "\n",
      "Plurality rule winner: c\n",
      "Top vote: 37 times\n",
      "Bottom vote: 31 times\n"
     ]
    }
   ],
   "source": [
    "random.seed(91)\n",
    "\n",
    "n_voters = 100\n",
    "n_alternatives = 3\n",
    "voters = create_voters(n_voters)\n",
    "alternatives = create_alternatives(n_alternatives)\n",
    "profile = create_profile(voters, alternatives)\n",
    "\n",
    "print('\\nPreferences by frequency:')\n",
    "\n",
    "preference_count = Counter(profile.values())\n",
    "\n",
    "for i, (preference, count) in enumerate(preference_count.most_common()):\n",
    "    # print in table form\n",
    "    print(f'{preference}: {count:>2}', end='   ')\n",
    "    if i % 6 == 5 and i != len(preference_count) - 1:\n",
    "        print()\n",
    "\n",
    "print()\n",
    "\n",
    "winner = plurality_rule(profile)\n",
    "winner_on_top = sum([1 for voter in profile if top_choice(profile, voter) == winner])\n",
    "winner_on_bottom = sum([1 for voter in profile if bottom_choice(profile, voter) == winner])\n",
    "\n",
    "print(f'\\nPlurality rule winner: {winner}')\n",
    "print(f'Top vote: {winner_on_top} times')\n",
    "print(f'Bottom vote: {winner_on_bottom} times')\n"
   ]
  },
  {
   "cell_type": "markdown",
   "metadata": {},
   "source": [
    "In the case of $|A|=3$ alternatives, the winner is despised by a 31 out of 100 voters, they put the winner $c$ at the bottom of their preferences. However, it shows that if the voters choosing $a$ or $b$ cooperated, and decided to only vote on *either* $a$ or $b$, they could outnumber $c$, as they would get 100 - 37 = 63 votes out of 100."
   ]
  },
  {
   "cell_type": "markdown",
   "metadata": {},
   "source": [
    "#### Plurality with 2 alternatives"
   ]
  },
  {
   "cell_type": "code",
   "execution_count": 627,
   "metadata": {},
   "outputs": [
    {
     "name": "stdout",
     "output_type": "stream",
     "text": [
      "\n",
      "Preferences by frequency:\n",
      "ab: 54   ba: 46   \n",
      "\n",
      "Plurality rule winner: a\n",
      "Top vote: 54 times\n",
      "Bottom vote: 46 times\n"
     ]
    }
   ],
   "source": [
    "random.seed(874)\n",
    "\n",
    "\n",
    "n_voters = 100\n",
    "n_alternatives = 2\n",
    "voters = create_voters(n_voters)\n",
    "alternatives = create_alternatives(n_alternatives)\n",
    "profile = create_profile(voters, alternatives)\n",
    "\n",
    "print('\\nPreferences by frequency:')\n",
    "\n",
    "preference_count = Counter(profile.values())\n",
    "\n",
    "for i, (preference, count) in enumerate(preference_count.most_common()):\n",
    "    # print in table form\n",
    "    print(f'{preference}: {count:>2}', end='   ')\n",
    "    if i % 6 == 5 and i != len(preference_count) - 1:\n",
    "        print()\n",
    "\n",
    "print()\n",
    "\n",
    "winner = plurality_rule(profile)\n",
    "winner_on_top = sum([1 for voter in profile if top_choice(profile, voter) == winner])\n",
    "winner_on_bottom = sum([1 for voter in profile if bottom_choice(profile, voter) == winner])\n",
    "\n",
    "print(f'\\nPlurality rule winner: {winner}')\n",
    "print(f'Top vote: {winner_on_top} times')\n",
    "print(f'Bottom vote: {winner_on_bottom} times')\n"
   ]
  },
  {
   "cell_type": "markdown",
   "metadata": {},
   "source": [
    "In the case of just 2 alternatives, the plurality rule results in a winner that is on average despised by the largest fraction of the population. Compared to 3, 4 or 5 alternatives, the winner is at the bottom of the voter's preferences 46% of the time (!). \n"
   ]
  },
  {
   "cell_type": "markdown",
   "metadata": {},
   "source": [
    "## The plurarity with runoff rule $F_{RUN}$\n",
    "\n",
    "The plurality with runoff rule seeks to fix the issue with the majority rule often not resulting in a winner if there are more than 2 alternatives. If there is no majority winner, pick the two alternatives with the highest plurality scores, and hold an extra round of voting between these two. Then, pick the majority winner out of these two alternatives.\n",
    "\n",
    "$F_{RUN}(R) = F_{MAJ}(R)$ if it exists, otherwise $F_{RUN}(R) = F_{MAJ}(R')$\n",
    "\n",
    "with $R'$ being the top two most popular candidates in $R$."
   ]
  },
  {
   "cell_type": "code",
   "execution_count": 628,
   "metadata": {},
   "outputs": [],
   "source": [
    "def runoff_rule(profile: dict) -> str | None:\n",
    "    \"\"\"\n",
    "    This rule returns the majority rule winner.\n",
    "    If no such winner exists, get the two most popular alternatives and hold\n",
    "    another round of voting between these two, with the same preference profile,\n",
    "    except with the candidates who lost in the first round omitted.\n",
    "    \"\"\"\n",
    "    \n",
    "    majority = len(profile) // 2 + 1\n",
    "\n",
    "    top_choices = [top_choice(profile, voter) for voter in profile]\n",
    "    top_choice_count = Counter(top_choices)\n",
    "\n",
    "    for top, count in top_choice_count.items():\n",
    "        if count >= majority:\n",
    "            return top\n",
    "    \n",
    "    # if two tied for first place, no runoff winner\n",
    "    if len(top_choice_count) <= 2:\n",
    "        return None\n",
    "    \n",
    "    # if no majority winner, get the two most popular alternatives\n",
    "    # for simplicity we do not introduce tie-breaking mechanisms here\n",
    "    most_common = top_choice_count.most_common(2)\n",
    "    top_2 = [a for a, _ in most_common]\n",
    "\n",
    "    new_profile: dict[int, str] = dict()\n",
    "    # per preference, remove all alternatives except the top 2\n",
    "    for voter in profile:\n",
    "        new_profile[voter] = ''.join([a for a in profile[voter] if a in top_2])\n",
    "    \n",
    "    # run majority rule again\n",
    "    return majority_rule(new_profile)\n"
   ]
  },
  {
   "cell_type": "code",
   "execution_count": 657,
   "metadata": {},
   "outputs": [
    {
     "name": "stdout",
     "output_type": "stream",
     "text": [
      "n_voters=10\n",
      "n_alternatives=3\n",
      "\n",
      "Preferences by frequency:\n",
      "bca:  3   cab:  3   bac:  2   abc:  1   cba:  1   \n",
      "--------------------------------------------------------------------------------\n",
      "\n",
      "Majority rule winner: None\n",
      "Plurality with runoff winner: b\n"
     ]
    }
   ],
   "source": [
    "random.seed(787)\n",
    "\n",
    "n_voters = 10\n",
    "n_alternatives = 3\n",
    "profile = create_profile(create_voters(n_voters), create_alternatives(n_alternatives))\n",
    "print(f'{n_voters=}')\n",
    "print(f'{n_alternatives=}')\n",
    "\n",
    "print('\\nPreferences by frequency:')\n",
    "\n",
    "preference_count = Counter(profile.values())\n",
    "\n",
    "for i, (preference, count) in enumerate(preference_count.most_common()):\n",
    "    # print in table form\n",
    "    print(f'{preference}: {count:>2}', end='   ')\n",
    "    if i % 6 == 5 and i != len(preference_count) - 1:\n",
    "        print()\n",
    "\n",
    "print()\n",
    "print('-' * 80)\n",
    "\n",
    "majority_winner = majority_rule(profile)\n",
    "print(f'\\nMajority rule winner: {majority_winner}')\n",
    "runoff_winner = runoff_rule(profile)\n",
    "print(f'Plurality with runoff winner: {runoff_winner}')"
   ]
  },
  {
   "cell_type": "markdown",
   "metadata": {},
   "source": [
    "In the above simulation with 10 voters and 3 alternatives, there is no majority winner. By using the plurality with runoff rule, we can eliminate the least popular voters (in this case $a$), and retry using the adjusted preference profile with $a$ removed. This results in the winner $b$, as it is more often the case that $b \\succ_i c$ than $c \\succ_i b$ for the voters $i \\in N$. When omitting $a$ from the above preference profile, it turns out that 3+2+1=6 voters prefer b over c, and 3+1=4 voters prefer c over b.\n",
    "\n",
    "However, it is possible that a bad candidate is elected. For example: if 40 voters had the preference `acb`, 35 voters had `bca`, and 25 voters had `cba`, then after applying the plurality with runoff rule, $c$ would be eliminated, and $b$ would win. Note that in that scenario 65% of the voters initially preferred $c$ over $b$. "
   ]
  },
  {
   "cell_type": "markdown",
   "metadata": {},
   "source": [
    "## The Condorcet rule $F_{CON}$"
   ]
  },
  {
   "cell_type": "code",
   "execution_count": 372,
   "metadata": {},
   "outputs": [
    {
     "data": {
      "text/plain": [
       "Ellipsis"
      ]
     },
     "execution_count": 372,
     "metadata": {},
     "output_type": "execute_result"
    }
   ],
   "source": [
    "..."
   ]
  },
  {
   "cell_type": "markdown",
   "metadata": {},
   "source": [
    "## The Borda rule $F_{BOR}$"
   ]
  },
  {
   "cell_type": "code",
   "execution_count": 373,
   "metadata": {},
   "outputs": [
    {
     "data": {
      "text/plain": [
       "Ellipsis"
      ]
     },
     "execution_count": 373,
     "metadata": {},
     "output_type": "execute_result"
    }
   ],
   "source": [
    "..."
   ]
  },
  {
   "cell_type": "markdown",
   "metadata": {},
   "source": [
    "## Various scoring rules"
   ]
  },
  {
   "cell_type": "code",
   "execution_count": 374,
   "metadata": {},
   "outputs": [
    {
     "data": {
      "text/plain": [
       "Ellipsis"
      ]
     },
     "execution_count": 374,
     "metadata": {},
     "output_type": "execute_result"
    }
   ],
   "source": [
    "..."
   ]
  }
 ],
 "metadata": {
  "kernelspec": {
   "display_name": "base",
   "language": "python",
   "name": "python3"
  },
  "language_info": {
   "codemirror_mode": {
    "name": "ipython",
    "version": 3
   },
   "file_extension": ".py",
   "mimetype": "text/x-python",
   "name": "python",
   "nbconvert_exporter": "python",
   "pygments_lexer": "ipython3",
   "version": "3.10.10"
  }
 },
 "nbformat": 4,
 "nbformat_minor": 2
}
