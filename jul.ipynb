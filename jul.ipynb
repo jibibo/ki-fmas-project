{
 "cells": [
  {
   "cell_type": "markdown",
   "metadata": {},
   "source": [
    "# Simulating voting rules"
   ]
  },
  {
   "cell_type": "markdown",
   "metadata": {},
   "source": [
    "## Introduction\n",
    "\n",
    "Voting rules can be confusing. To illustrate the options as discussed in the lectures, we simulate the voting rules and the effects they can have. In this demo, \"agent\" and \"voter\" is used interchangably."
   ]
  },
  {
   "cell_type": "code",
   "execution_count": 21,
   "metadata": {},
   "outputs": [],
   "source": [
    "import random\n",
    "import numpy as np\n",
    "import pandas as pd\n",
    "import string\n",
    "from collections import Counter"
   ]
  },
  {
   "cell_type": "markdown",
   "metadata": {},
   "source": [
    "## Model definition"
   ]
  },
  {
   "cell_type": "markdown",
   "metadata": {},
   "source": [
    "### Defining functions"
   ]
  },
  {
   "cell_type": "markdown",
   "metadata": {},
   "source": [
    "We first define the functions `create_voters` and `create_alternatives` to create specific sets $N$ and $A$, respectively."
   ]
  },
  {
   "cell_type": "code",
   "execution_count": 22,
   "metadata": {},
   "outputs": [
    {
     "name": "stdout",
     "output_type": "stream",
     "text": [
      "create_voters(5)=[0, 1, 2, 3, 4]\n",
      "create_alternatives(5)=['a', 'b', 'c', 'd', 'e']\n"
     ]
    }
   ],
   "source": [
    "def create_voters(n_voters: int = 0) -> list[int]:\n",
    "    \"\"\"\n",
    "    Create a list of voters of size `n_voters`.\n",
    "    If `n_voters` is equal to 0, a random number of voters in the range \n",
    "    [3, 10] will be created.\n",
    "    \"\"\"\n",
    "\n",
    "    if n_voters is None:\n",
    "        n_voters = random.randint(3, 10)\n",
    "\n",
    "    return [i for i in range(n_voters)]\n",
    "\n",
    "\n",
    "def create_alternatives(n_alternatives: int = 0) -> list[str]:\n",
    "    \"\"\"\n",
    "    Create a list of alternatives of size `n_alternatives`.\n",
    "    If `n_alternatives` is equal to 0, a random number of alternatives in the range \n",
    "    [3, 10] will be created.\n",
    "    \"\"\"\n",
    "\n",
    "    if n_alternatives is None:\n",
    "        n_alternatives = random.randint(3, 10)\n",
    "\n",
    "    return [string.ascii_letters[i] for i in range(n_alternatives)]\n",
    "\n",
    "\n",
    "print(f'{create_voters(5)=}')\n",
    "print(f'{create_alternatives(5)=}')"
   ]
  },
  {
   "cell_type": "markdown",
   "metadata": {},
   "source": [
    "We define a function `create_preference_profile` for creating preference profiles. For each agent $i \\in N$ it creates a preference $\\succ_i$ containing alternatives from the set $A$:"
   ]
  },
  {
   "cell_type": "code",
   "execution_count": 23,
   "metadata": {},
   "outputs": [],
   "source": [
    "def create_preference_profile(voters: list[int], alternatives: list[str]) -> dict:\n",
    "    \"\"\"\n",
    "    Create a preference profile for a given number of voters and alternatives.\n",
    "    Randomized on each call.\n",
    "    \"\"\"\n",
    "    \n",
    "    preference_profile = {}\n",
    "\n",
    "    for voter in voters:\n",
    "        preference_profile[voter] = ''.join(random.sample(alternatives, k=len(alternatives)))\n",
    "        \n",
    "    return preference_profile"
   ]
  },
  {
   "cell_type": "markdown",
   "metadata": {},
   "source": [
    "Functions to get a voter's preference and a voter's top choice for some preference:"
   ]
  },
  {
   "cell_type": "code",
   "execution_count": 24,
   "metadata": {},
   "outputs": [],
   "source": [
    "def voter_preference(profile: dict, voter: int) -> str:\n",
    "    \"\"\"\n",
    "    Returns the preference of a voter.\n",
    "    \"\"\"\n",
    "    \n",
    "    return profile[voter]\n",
    "\n",
    "def top_choice(profile: dict, voter: int) -> str:\n",
    "    \"\"\"\n",
    "    Returns the top choice of a voter.\n",
    "    \"\"\"\n",
    "    \n",
    "    return profile[voter][0]"
   ]
  },
  {
   "cell_type": "markdown",
   "metadata": {},
   "source": [
    "## Description of a sample preference profile"
   ]
  },
  {
   "cell_type": "code",
   "execution_count": 25,
   "metadata": {},
   "outputs": [
    {
     "name": "stdout",
     "output_type": "stream",
     "text": [
      "Sample preference profile:\n",
      "profile={0: 'abc', 1: 'abc', 2: 'acb', 3: 'acb'}\n",
      "\n",
      "Preferences by voter:\n",
      "Voter 0: abc\n",
      "Voter 1: abc\n",
      "Voter 2: acb\n",
      "Voter 3: acb\n",
      "\n",
      "Preferences by frequency:\n",
      "abc: 2\n",
      "acb: 2\n"
     ]
    }
   ],
   "source": [
    "# sample preference profile for 4 voters and 3 alternatives\n",
    "voters, alternatives = create_voters(4), create_alternatives(3)\n",
    "profile = create_preference_profile(voters, alternatives)\n",
    "print('Sample preference profile:')\n",
    "print(f'{profile=}')\n",
    "\n",
    "\n",
    "print('\\nPreferences by voter:')\n",
    "\n",
    "for voter in voters:\n",
    "    print(f'Voter {voter}: {voter_preference(profile, voter)}')\n",
    "\n",
    "preference_count = {}\n",
    "for preference in profile.values():\n",
    "    preference_count[preference] = preference_count.get(preference, 0) + 1\n",
    "\n",
    "\n",
    "print('\\nPreferences by frequency:')\n",
    "\n",
    "for preference, count in sorted(preference_count.items(), key=lambda x: x[1], reverse=True):\n",
    "    print(f'{preference}: {preference_count[preference]}')"
   ]
  },
  {
   "cell_type": "markdown",
   "metadata": {},
   "source": [
    "## The dictatorship rule $F_{DCT}$"
   ]
  },
  {
   "cell_type": "code",
   "execution_count": 26,
   "metadata": {},
   "outputs": [],
   "source": [
    "def dictatorship_rule(profile: dict, voter: int) -> str:\n",
    "    \"\"\"\n",
    "    This rule returns the top choice of a voter.\n",
    "    \"\"\"\n",
    "    \n",
    "    return top_choice(profile, voter)"
   ]
  },
  {
   "cell_type": "code",
   "execution_count": 77,
   "metadata": {},
   "outputs": [
    {
     "name": "stdout",
     "output_type": "stream",
     "text": [
      "n_voters=4\n",
      "n_alternatives=3\n",
      "profile={0: 'bca', 1: 'acb', 2: 'acb', 3: 'cab'}\n",
      "\n",
      "Dictatorship rule:\n",
      "dictator=2\n",
      "Result: a\n"
     ]
    }
   ],
   "source": [
    "n_voters = 4\n",
    "n_alternatives = 3\n",
    "print(f'{n_voters=}')\n",
    "print(f'{n_alternatives=}')\n",
    "\n",
    "voters = create_voters(n_voters)\n",
    "alternatives = create_alternatives(n_alternatives)\n",
    "profile = create_preference_profile(voters, alternatives)\n",
    "print(f'{profile=}')\n",
    "\n",
    "dictator = random.choice(voters)\n",
    "\n",
    "print('\\nDictatorship rule:')\n",
    "print(f'{dictator=}')\n",
    "print(f'Result: {dictatorship_rule(profile, dictator)}')"
   ]
  },
  {
   "cell_type": "markdown",
   "metadata": {},
   "source": [
    "## The majority rule $F_{MAJ}$"
   ]
  },
  {
   "cell_type": "markdown",
   "metadata": {},
   "source": [
    "The majority rule does not always have an outcome. In that case, the function `majority_rule` returns `None`. This can happen when `n_voters` is even and/or `n_alternatives` is greater than 2."
   ]
  },
  {
   "cell_type": "code",
   "execution_count": 82,
   "metadata": {},
   "outputs": [],
   "source": [
    "def majority_rule(profile: dict) -> str | None:\n",
    "    \"\"\"\n",
    "    This rule returns the majority top choice.\n",
    "    If there is no majority, it returns None.\n",
    "    \"\"\"\n",
    "    \n",
    "    majority = len(profile) // 2 + 1\n",
    "\n",
    "    top_choices = [top_choice(profile, voter) for voter in profile]\n",
    "    top_choice_count = Counter(top_choices)\n",
    "\n",
    "    for top, count in top_choice_count.items():\n",
    "        if count >= majority:\n",
    "            return top\n",
    "        \n",
    "    return None"
   ]
  },
  {
   "cell_type": "code",
   "execution_count": 93,
   "metadata": {},
   "outputs": [
    {
     "name": "stdout",
     "output_type": "stream",
     "text": [
      "n_voters=3\n",
      "n_alternatives=2\n",
      "profile={0: 'ab', 1: 'ab', 2: 'ab'}\n",
      "\n",
      "Majority rule:\n",
      "Result: a\n"
     ]
    }
   ],
   "source": [
    "n_voters = 3\n",
    "n_alternatives = 2\n",
    "print(f'{n_voters=}')\n",
    "print(f'{n_alternatives=}')\n",
    "\n",
    "voters = create_voters(n_voters)\n",
    "alternatives = create_alternatives(n_alternatives)\n",
    "profile = create_preference_profile(voters, alternatives)\n",
    "print(f'{profile=}')\n",
    "\n",
    "print('\\nMajority rule:')\n",
    "\n",
    "result = majority_rule(profile)\n",
    "print(f'Result: {result}')"
   ]
  },
  {
   "cell_type": "markdown",
   "metadata": {},
   "source": [
    "## The plurarity rule $F_{PLU}$"
   ]
  },
  {
   "cell_type": "code",
   "execution_count": 94,
   "metadata": {},
   "outputs": [
    {
     "data": {
      "text/plain": [
       "Ellipsis"
      ]
     },
     "execution_count": 94,
     "metadata": {},
     "output_type": "execute_result"
    }
   ],
   "source": [
    "...\n"
   ]
  },
  {
   "cell_type": "markdown",
   "metadata": {},
   "source": [
    "## Duverger's law"
   ]
  },
  {
   "cell_type": "code",
   "execution_count": 95,
   "metadata": {},
   "outputs": [
    {
     "data": {
      "text/plain": [
       "Ellipsis"
      ]
     },
     "execution_count": 95,
     "metadata": {},
     "output_type": "execute_result"
    }
   ],
   "source": [
    "..."
   ]
  },
  {
   "cell_type": "markdown",
   "metadata": {},
   "source": [
    "## The plurarity with runoff rule $F_{RUN}$"
   ]
  },
  {
   "cell_type": "code",
   "execution_count": 96,
   "metadata": {},
   "outputs": [
    {
     "data": {
      "text/plain": [
       "Ellipsis"
      ]
     },
     "execution_count": 96,
     "metadata": {},
     "output_type": "execute_result"
    }
   ],
   "source": [
    "..."
   ]
  },
  {
   "cell_type": "markdown",
   "metadata": {},
   "source": [
    "## The Condorcet rule $F_{CON}$"
   ]
  },
  {
   "cell_type": "code",
   "execution_count": 98,
   "metadata": {},
   "outputs": [
    {
     "data": {
      "text/plain": [
       "Ellipsis"
      ]
     },
     "execution_count": 98,
     "metadata": {},
     "output_type": "execute_result"
    }
   ],
   "source": [
    "..."
   ]
  },
  {
   "cell_type": "markdown",
   "metadata": {},
   "source": [
    "## The Borda rule $F_{BOR}$"
   ]
  },
  {
   "cell_type": "code",
   "execution_count": 99,
   "metadata": {},
   "outputs": [
    {
     "data": {
      "text/plain": [
       "Ellipsis"
      ]
     },
     "execution_count": 99,
     "metadata": {},
     "output_type": "execute_result"
    }
   ],
   "source": [
    "..."
   ]
  },
  {
   "cell_type": "markdown",
   "metadata": {},
   "source": [
    "## Various scoring rules"
   ]
  },
  {
   "cell_type": "code",
   "execution_count": 100,
   "metadata": {},
   "outputs": [
    {
     "data": {
      "text/plain": [
       "Ellipsis"
      ]
     },
     "execution_count": 100,
     "metadata": {},
     "output_type": "execute_result"
    }
   ],
   "source": [
    "..."
   ]
  }
 ],
 "metadata": {
  "kernelspec": {
   "display_name": "base",
   "language": "python",
   "name": "python3"
  },
  "language_info": {
   "codemirror_mode": {
    "name": "ipython",
    "version": 3
   },
   "file_extension": ".py",
   "mimetype": "text/x-python",
   "name": "python",
   "nbconvert_exporter": "python",
   "pygments_lexer": "ipython3",
   "version": "3.10.10"
  }
 },
 "nbformat": 4,
 "nbformat_minor": 2
}
